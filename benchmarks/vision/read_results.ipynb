{
 "cells": [
  {
   "cell_type": "code",
   "execution_count": 2,
   "metadata": {},
   "outputs": [
    {
     "name": "stdout",
     "output_type": "stream",
     "text": [
      "Length of runhistory_data_CNN: 9\n",
      "CNN min 5:\n",
      "Config ID: 8, Cost: 2147483647.0, Parameters: {'colsample_bylevel': 0.39672806594402965, 'colsample_bynode': 0.43760765317603745, 'colsample_bytree': 0.5581076194626748, 'gamma': 0.8388939068631416, 'learning_rate': 0.03815936997998777, 'max_depth': 18, 'min_child_weight': 1, 'n_estimators': 1175, 'subsample': 0.7343256008238508}\n",
      "\n",
      "Config ID: 3, Cost: 2147483647.0, Parameters: {'colsample_bylevel': 0.7219343632501507, 'colsample_bynode': 0.9242411005474558, 'colsample_bytree': 0.6976311927657526, 'gamma': 0.8493578609931441, 'learning_rate': 0.14382901505335025, 'max_depth': 20, 'min_child_weight': 5, 'n_estimators': 779, 'subsample': 0.8488155979636325}\n",
      "\n",
      "Config ID: 5, Cost: 2147483647.0, Parameters: {'colsample_bylevel': 0.5965583595372332, 'colsample_bynode': 0.5684090631780443, 'colsample_bytree': 0.34972524073852085, 'gamma': 0.8830109334221372, 'learning_rate': 0.04429958350199063, 'max_depth': 10, 'min_child_weight': 1, 'n_estimators': 850, 'subsample': 0.8333833577228338}\n",
      "\n",
      "Config ID: 6, Cost: 2147483647.0, Parameters: {'colsample_bylevel': 0.7694465087327116, 'colsample_bynode': 0.4472677927516886, 'colsample_bytree': 0.3902484083583973, 'gamma': 0.38388551583176544, 'learning_rate': 0.11547612357336054, 'max_depth': 13, 'min_child_weight': 5, 'n_estimators': 1188, 'subsample': 0.551022405374014}\n",
      "\n",
      "Config ID: 1, Cost: 2147483647.0, Parameters: {'colsample_bylevel': 0.6841694527491273, 'colsample_bynode': 0.7521258791466592, 'colsample_bytree': 0.8542075266578653, 'gamma': 0.17841636973138664, 'learning_rate': 0.2937993192475016, 'max_depth': 14, 'min_child_weight': 3, 'n_estimators': 780, 'subsample': 0.679753950286893}\n",
      "\n"
     ]
    }
   ],
   "source": [
    "import json\n",
    "\n",
    "\n",
    "runhistory_path = \"smac_hyperband_output_budget_2hr_XGBT_90classes/3330ca8356bd6033f41cce8bea9bf92b/0/runhistory.json\"\n",
    "\n",
    "with open(runhistory_path, \"r\") as file:\n",
    "    runhistory_data_CNN = json.load(file)\n",
    "\n",
    "print(\"Length of runhistory_data_CNN:\", len(runhistory_data_CNN[\"data\"]))\n",
    "\n",
    "configs_costs_CNN = []\n",
    "for entry in runhistory_data_CNN[\"data\"]:\n",
    "    # print(entry)\n",
    "    config_id = entry[0]  \n",
    "    cost = entry[4]  \n",
    "    configs_costs_CNN.append((entry[0], entry[4]))\n",
    "    configs_costs_CNN = list(set(configs_costs_CNN))\n",
    "\n",
    "    # print(f\"Config ID: {config_id}, Cost: {cost}\")\n",
    "    # if config_id == 44:# or config_id == 21:\n",
    "    #     params_CNN = runhistory_data_CNN[\"configs\"][str(config_id)]\n",
    "    #     # print(entry)\n",
    "    #     print(f\"CNN config ID: {config_id}, Cost: {cost}, Parameters: {params_CNN}\\n\")\n",
    "\n",
    "\n",
    "min_cost_config_CNN = []\n",
    "min_cost_config_CNN = sorted(configs_costs_CNN, key=lambda x: x[1])[:5]\n",
    "print(\"CNN min 5:\")\n",
    "for config_id, cost in min_cost_config_CNN:\n",
    "    \n",
    "    params = runhistory_data_CNN[\"configs\"][str(config_id)]\n",
    "    print(f\"Config ID: {config_id}, Cost: {cost}, Parameters: {params}\\n\")\n",
    "file.close()\n"
   ]
  },
  {
   "cell_type": "code",
   "execution_count": 3,
   "metadata": {},
   "outputs": [
    {
     "name": "stdout",
     "output_type": "stream",
     "text": [
      "Length of runhistory_data_CNN: 9\n",
      "CNN min 5:\n",
      "Config ID: 7, Cost: 0.8357777777777777, Parameters: {'colsample_bylevel': 0.44621372926638425, 'colsample_bynode': 0.4129166625194974, 'colsample_bytree': 0.7571758278257789, 'gamma': 0.3279624422858039, 'learning_rate': 0.14523012412832884, 'max_depth': 6, 'min_child_weight': 2, 'n_estimators': 221, 'subsample': 0.8281647947326367}\n",
      "\n",
      "Config ID: 8, Cost: 2147483647.0, Parameters: {'colsample_bylevel': 0.39672806594402965, 'colsample_bynode': 0.43760765317603745, 'colsample_bytree': 0.5581076194626748, 'gamma': 0.8388939068631416, 'learning_rate': 0.03815936997998777, 'max_depth': 18, 'min_child_weight': 1, 'n_estimators': 1175, 'subsample': 0.7343256008238508}\n",
      "\n",
      "Config ID: 3, Cost: 2147483647.0, Parameters: {'colsample_bylevel': 0.7219343632501507, 'colsample_bynode': 0.9242411005474558, 'colsample_bytree': 0.6976311927657526, 'gamma': 0.8493578609931441, 'learning_rate': 0.14382901505335025, 'max_depth': 20, 'min_child_weight': 5, 'n_estimators': 779, 'subsample': 0.8488155979636325}\n",
      "\n",
      "Config ID: 5, Cost: 2147483647.0, Parameters: {'colsample_bylevel': 0.5965583595372332, 'colsample_bynode': 0.5684090631780443, 'colsample_bytree': 0.34972524073852085, 'gamma': 0.8830109334221372, 'learning_rate': 0.04429958350199063, 'max_depth': 10, 'min_child_weight': 1, 'n_estimators': 850, 'subsample': 0.8333833577228338}\n",
      "\n",
      "Config ID: 6, Cost: 2147483647.0, Parameters: {'colsample_bylevel': 0.7694465087327116, 'colsample_bynode': 0.4472677927516886, 'colsample_bytree': 0.3902484083583973, 'gamma': 0.38388551583176544, 'learning_rate': 0.11547612357336054, 'max_depth': 13, 'min_child_weight': 5, 'n_estimators': 1188, 'subsample': 0.551022405374014}\n",
      "\n"
     ]
    }
   ],
   "source": [
    "runhistory_path = \"smac_hyperband_output_budget_6hr_XGBT_90classes/53c0a9c6ccf17099bcdc207751845f9b/0/runhistory.json\"\n",
    "\n",
    "with open(runhistory_path, \"r\") as file:\n",
    "    runhistory_data_CNN = json.load(file)\n",
    "\n",
    "print(\"Length of runhistory_data_CNN:\", len(runhistory_data_CNN[\"data\"]))\n",
    "\n",
    "configs_costs_CNN = []\n",
    "for entry in runhistory_data_CNN[\"data\"]:\n",
    "    # print(entry)\n",
    "    config_id = entry[0]  \n",
    "    cost = entry[4]  \n",
    "    configs_costs_CNN.append((entry[0], entry[4]))\n",
    "    configs_costs_CNN = list(set(configs_costs_CNN))\n",
    "\n",
    "    # print(f\"Config ID: {config_id}, Cost: {cost}\")\n",
    "    # if config_id == 44:# or config_id == 21:\n",
    "    #     params_CNN = runhistory_data_CNN[\"configs\"][str(config_id)]\n",
    "    #     # print(entry)\n",
    "    #     print(f\"CNN config ID: {config_id}, Cost: {cost}, Parameters: {params_CNN}\\n\")\n",
    "\n",
    "\n",
    "min_cost_config_CNN = []\n",
    "min_cost_config_CNN = sorted(configs_costs_CNN, key=lambda x: x[1])[:5]\n",
    "print(\"CNN min 5:\")\n",
    "for config_id, cost in min_cost_config_CNN:\n",
    "    \n",
    "    params = runhistory_data_CNN[\"configs\"][str(config_id)]\n",
    "    print(f\"Config ID: {config_id}, Cost: {cost}, Parameters: {params}\\n\")\n",
    "file.close()\n"
   ]
  },
  {
   "cell_type": "code",
   "execution_count": 11,
   "metadata": {},
   "outputs": [
    {
     "name": "stdout",
     "output_type": "stream",
     "text": [
      "Total number of lines: 19\n",
      "Line 1: Classes:[0, 1, 2, 3, 5, 6, 7, 8, 9, 10, 11, 12, 13, 14, 15, 16, 17, 18, 19, 20, 21, 22, 23, 24, 25, 26, 27, 29, 30, 32, 33, 34, 35, 36, 37, 39, 40, 42, 43, 44, 45, 47, 48, 49, 50, 51, 52, 53, 54, 56, 57, 58, 60, 61, 62, 63, 64, 65, 66, 67, 68, 69, 70, 71, 72, 73, 74, 75, 76, 77, 78, 79, 80, 81, 82, 83, 84, 85, 86, 87, 88, 89, 90, 92, 93, 94, 95, 96, 98, 99]\n",
      "Line 2: Sample size:100\n",
      "Line 3: Posteriors:[0.01823478 0.0264681  0.01018733 0.04432711 0.01194326 0.02673679\n",
      "Line 4: 0.01065296 0.07536706 0.02481242 0.02688851 0.02083461 0.00588195\n",
      "Line 5: 0.00433393 0.00338257 0.01279388 0.0100328  0.00574858 0.01274718\n",
      "Line 6: 0.00221595 0.00263156 0.00118547 0.01080778 0.01795165 0.00505278\n",
      "Line 7: 0.01594811 0.00492265 0.0063808  0.01934266 0.00687576 0.00800349\n",
      "Line 8: 0.00463913 0.01705999 0.00693654 0.00577373 0.01771813 0.00719312\n",
      "Line 9: 0.00267997 0.01389594 0.00810312 0.00815514 0.03000202 0.01520689\n",
      "Line 10: 0.00203971 0.0010992  0.0083034  0.01608329 0.00445861 0.00365678\n",
      "Line 11: 0.01281415 0.00302961 0.01652859 0.00605782 0.00950164 0.00435431\n",
      "Line 12: 0.00873283 0.00387032 0.00772047 0.00573974 0.01589869 0.00406201\n",
      "Line 13: 0.01361831 0.00561476 0.00389307 0.01538918 0.00538712 0.00625865\n",
      "Line 14: 0.00793764 0.00746032 0.01789514 0.01096662 0.01876199 0.02491492\n",
      "Line 15: 0.01379766 0.00681232 0.01048451 0.01960768 0.00272325 0.00537806\n",
      "Line 16: 0.01417703 0.00338993 0.01049211 0.01400458 0.00247384 0.00568638\n",
      "Line 17: 0.00598003 0.0037012  0.01046413 0.0024515  0.00298324 0.00328756], Test Labels:10\n",
      "Line 18: Posteriors:[0.02316351 0.02515153 0.0129598  0.01076182 0.01654098 0.01179949\n",
      "Line 19: 0.02046289 0.01462975 0.02058499 0.0166841  0.01588914 0.01637419\n",
      "Line 20: 0.00874729 0.00946815 0.00585196 0.01060626 0.00839594 0.01313844\n"
     ]
    }
   ],
   "source": [
    "runhistory_path = \"90_class/cnn32_2l_probs_labels_2hr.txt\"\n",
    "\n",
    "def read_first_n_lines(filepath, n=20):\n",
    "    lines = []\n",
    "    with open(filepath, 'r') as file:\n",
    "        for _ in range(n):\n",
    "            line = file.readline()\n",
    "            total_lines = len(lines)\n",
    "            if not line:  \n",
    "                break\n",
    "            lines.append(line.strip()) \n",
    "    return total_lines, lines\n",
    "\n",
    "total_lines, first_10_lines = read_first_n_lines(runhistory_path)\n",
    "print(f\"Total number of lines: {total_lines}\")\n",
    "\n",
    "for i, line in enumerate(first_10_lines, 1):\n",
    "    print(f\"Line {i}: {line}\")\n"
   ]
  },
  {
   "cell_type": "code",
   "execution_count": null,
   "metadata": {},
   "outputs": [],
   "source": []
  }
 ],
 "metadata": {
  "kernelspec": {
   "display_name": "NeuroData",
   "language": "python",
   "name": "neurodata"
  },
  "orig_nbformat": 4
 },
 "nbformat": 4,
 "nbformat_minor": 2
}
