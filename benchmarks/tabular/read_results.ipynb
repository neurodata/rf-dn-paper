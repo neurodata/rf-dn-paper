{
 "cells": [
  {
   "cell_type": "code",
   "execution_count": 10,
   "metadata": {},
   "outputs": [
    {
     "name": "stdout",
     "output_type": "stream",
     "text": [
      "Length of runhistory_data_CNN: 29\n",
      "CNN min 3:\n",
      "Config ID: 18, Cost: 0.21550000000000002, Parameters: {'batch_size': 616, 'lr': 0.04260547448713339, 'max_epochs': 155, 'n_a': 92, 'n_d': 5, 'solver': 'adam'}\n",
      "\n",
      "Config ID: 23, Cost: 0.22499999999999998, Parameters: {'batch_size': 716, 'lr': 0.062088234747784785, 'max_epochs': 187, 'n_a': 119, 'n_d': 6, 'solver': 'adam'}\n",
      "\n",
      "Config ID: 1, Cost: 0.22750000000000004, Parameters: {'batch_size': 1153, 'lr': 0.06494351719359896, 'max_epochs': 248, 'n_a': 14, 'n_d': 126, 'solver': 'adam'}\n",
      "\n"
     ]
    }
   ],
   "source": [
    "import json\n",
    "\n",
    "\n",
    "runhistory_path = \"smac_hyperband_output_budget_10mins_Tab/electricity/a5c757a169a698f4e61703449029a769/0/runhistory.json\"\n",
    "\n",
    "with open(runhistory_path, \"r\") as file:\n",
    "    runhistory_data_CNN = json.load(file)\n",
    "\n",
    "print(\"Length of runhistory_data_CNN:\", len(runhistory_data_CNN[\"data\"]))\n",
    "\n",
    "configs_costs_CNN = []\n",
    "for entry in runhistory_data_CNN[\"data\"]:\n",
    "    # print(entry)\n",
    "    config_id = entry[0]  \n",
    "    cost = entry[4]  \n",
    "    configs_costs_CNN.append((entry[0], entry[4]))\n",
    "    configs_costs_CNN = list(set(configs_costs_CNN))\n",
    "\n",
    "    # print(f\"Config ID: {config_id}, Cost: {cost}\")\n",
    "    # if config_id == 44:# or config_id == 21:\n",
    "    #     params_CNN = runhistory_data_CNN[\"configs\"][str(config_id)]\n",
    "    #     # print(entry)\n",
    "    #     print(f\"CNN config ID: {config_id}, Cost: {cost}, Parameters: {params_CNN}\\n\")\n",
    "\n",
    "\n",
    "min_cost_config_CNN = []\n",
    "min_cost_config_CNN = sorted(configs_costs_CNN, key=lambda x: x[1])[:3]\n",
    "print(\"CNN min 3:\")\n",
    "for config_id, cost in min_cost_config_CNN:\n",
    "    \n",
    "    params = runhistory_data_CNN[\"configs\"][str(config_id)]\n",
    "    print(f\"Config ID: {config_id}, Cost: {cost}, Parameters: {params}\\n\")\n",
    "file.close()"
   ]
  },
  {
   "cell_type": "code",
   "execution_count": 6,
   "metadata": {},
   "outputs": [
    {
     "name": "stdout",
     "output_type": "stream",
     "text": [
      "Length of runhistory_data_CNN: 18\n",
      "CNN min 3:\n",
      "Config ID: 12, Cost: 0.14749999999999996, Parameters: {'n_a': 85, 'n_d': 135, 'verbose': 0}\n",
      "\n",
      "Config ID: 9, Cost: 0.15249999999999997, Parameters: {'n_a': 33, 'n_d': 165, 'verbose': 0}\n",
      "\n",
      "Config ID: 18, Cost: 0.15400000000000003, Parameters: {'n_a': 9, 'n_d': 76, 'verbose': 0}\n",
      "\n"
     ]
    }
   ],
   "source": [
    "runhistory_path = \"smac_hyperband_output_budget_30mins_Tab/covertype/ecfb6fd1122af43e0612932f0dd37624/0/runhistory.json\"\n",
    "\n",
    "with open(runhistory_path, \"r\") as file:\n",
    "    runhistory_data_CNN = json.load(file)\n",
    "\n",
    "print(\"Length of runhistory_data_CNN:\", len(runhistory_data_CNN[\"data\"]))\n",
    "\n",
    "configs_costs_CNN = []\n",
    "for entry in runhistory_data_CNN[\"data\"]:\n",
    "    # print(entry)\n",
    "    config_id = entry[0]  \n",
    "    cost = entry[4]  \n",
    "    configs_costs_CNN.append((entry[0], entry[4]))\n",
    "    configs_costs_CNN = list(set(configs_costs_CNN))\n",
    "\n",
    "    # print(f\"Config ID: {config_id}, Cost: {cost}\")\n",
    "    # if config_id == 44:# or config_id == 21:\n",
    "    #     params_CNN = runhistory_data_CNN[\"configs\"][str(config_id)]\n",
    "    #     # print(entry)\n",
    "    #     print(f\"CNN config ID: {config_id}, Cost: {cost}, Parameters: {params_CNN}\\n\")\n",
    "\n",
    "\n",
    "min_cost_config_CNN = []\n",
    "min_cost_config_CNN = sorted(configs_costs_CNN, key=lambda x: x[1])[:3]\n",
    "print(\"CNN min 3:\")\n",
    "for config_id, cost in min_cost_config_CNN:\n",
    "    \n",
    "    params = runhistory_data_CNN[\"configs\"][str(config_id)]\n",
    "    print(f\"Config ID: {config_id}, Cost: {cost}, Parameters: {params}\\n\")\n",
    "file.close()\n"
   ]
  },
  {
   "cell_type": "code",
   "execution_count": 13,
   "metadata": {},
   "outputs": [
    {
     "name": "stdout",
     "output_type": "stream",
     "text": [
      "Length of runhistory_data_CNN: 105\n",
      "CNN min 1:\n",
      "Config ID: 47, Cost: 0.354, Parameters: {'batch_size': 372, 'lr': 0.057986982211462416, 'max_epochs': 250, 'n_a': 32, 'n_d': 21, 'solver': 'adam'}\n",
      "\n"
     ]
    }
   ],
   "source": [
    "import json\n",
    "\n",
    "\n",
    "runhistory_path = \"smac_hyperband_output_budget_1hr_Tab/albert/c9e914f8a3ff36764aef38aada8d6656/0/runhistory.json\"\n",
    "\n",
    "with open(runhistory_path, \"r\") as file:\n",
    "    runhistory_data_CNN = json.load(file)\n",
    "\n",
    "print(\"Length of runhistory_data_CNN:\", len(runhistory_data_CNN[\"data\"]))\n",
    "\n",
    "configs_costs_CNN = []\n",
    "for entry in runhistory_data_CNN[\"data\"]:\n",
    "    # print(entry)\n",
    "    config_id = entry[0]  \n",
    "    cost = entry[4]  \n",
    "    configs_costs_CNN.append((entry[0], entry[4]))\n",
    "    configs_costs_CNN = list(set(configs_costs_CNN))\n",
    "\n",
    "    # print(f\"Config ID: {config_id}, Cost: {cost}\")\n",
    "    # if config_id == 44:# or config_id == 21:\n",
    "    #     params_CNN = runhistory_data_CNN[\"configs\"][str(config_id)]\n",
    "    #     # print(entry)\n",
    "    #     print(f\"CNN config ID: {config_id}, Cost: {cost}, Parameters: {params_CNN}\\n\")\n",
    "\n",
    "\n",
    "# min_cost_config_CNN = []\n",
    "# min_cost_config_CNN = sorted(configs_costs_CNN, key=lambda x: x[1])[:3]\n",
    "# print(\"CNN min 3:\")\n",
    "# for config_id, cost in min_cost_config_CNN:\n",
    "    \n",
    "#     params = runhistory_data_CNN[\"configs\"][str(config_id)]\n",
    "#     print(f\"Config ID: {config_id}, Cost: {cost}, Parameters: {params}\\n\")\n",
    "min_cost_config_CNN = sorted(configs_costs_CNN, key=lambda x: x[1])[0]\n",
    "print(\"CNN min 1:\")\n",
    "config_id, cost = min_cost_config_CNN\n",
    "params = runhistory_data_CNN[\"configs\"][str(config_id)]\n",
    "print(f\"Config ID: {config_id}, Cost: {cost}, Parameters: {params}\\n\")\n",
    "file.close()"
   ]
  },
  {
   "cell_type": "code",
   "execution_count": null,
   "metadata": {},
   "outputs": [],
   "source": []
  }
 ],
 "metadata": {
  "kernelspec": {
   "display_name": "Jupyter Kernel",
   "language": "python",
   "name": "neurodata"
  },
  "orig_nbformat": 4
 },
 "nbformat": 4,
 "nbformat_minor": 2
}
