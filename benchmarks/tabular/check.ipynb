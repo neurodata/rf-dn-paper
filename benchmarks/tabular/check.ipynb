{
 "cells": [
  {
   "cell_type": "code",
   "execution_count": 2,
   "metadata": {},
   "outputs": [],
   "source": [
    "import json"
   ]
  },
  {
   "cell_type": "code",
   "execution_count": 3,
   "metadata": {},
   "outputs": [],
   "source": [
    "rf_file_path = \"new_results/rf/\"\n",
    "xgbt_file_path = \"new_results/xgbt/\"\n",
    "tab_file_path = \"new_results/tabnet/\"\n",
    "ID334 = ['electricity', 'eye_movements', 'covertype', 'albert', 'default-of-credit-card-clients', 'road-safety', 'compas-two-years']\n",
    "ID337 = ['credit', 'electricity', 'covertype', 'pol', 'house_16H', 'MagicTelescope', 'bank-marketing', 'MiniBooNE', 'Higgs', 'eye_movements', 'Diabetes130US', 'jannis', 'default-of-credit-card-clients', 'Bioresponse', 'california', 'heloc']\n"
   ]
  },
  {
   "cell_type": "code",
   "execution_count": 23,
   "metadata": {},
   "outputs": [
    {
     "name": "stdout",
     "output_type": "stream",
     "text": [
      "electricity: 0.8392 -> 0.8636\n",
      "eye_movements: 0.620925341745531 -> 0.6225026288117771\n",
      "covertype: 0.8236 -> 0.8344\n",
      "albert: 0.6628 -> 0.6668\n",
      "default-of-credit-card-clients: 0.7108 -> 0.7184\n",
      "road-safety: 0.764 -> 0.764\n",
      "compas-two-years: 0.5995165189363416 -> 0.6011281224818694\n"
     ]
    }
   ],
   "source": [
    "acc_rf_df = []\n",
    "acc_rf_tuned_1hr = []\n",
    "for name in ID334:\n",
    "    with open(f\"{rf_file_path}/334/{name}/acc_df.json\") as f1:\n",
    "        acc_rf_df.append(json.load(f1))\n",
    "    with open(f\"{rf_file_path}/334/{name}/acc_tuned_1hr.json\") as f2:\n",
    "        acc_rf_tuned_1hr.append(json.load(f2))\n",
    "for i in range(len(ID334)):\n",
    "    print(f\"{ID334[i]}: {acc_rf_df[i]} -> {acc_rf_tuned_1hr[i]}\")"
   ]
  },
  {
   "cell_type": "code",
   "execution_count": 4,
   "metadata": {},
   "outputs": [
    {
     "name": "stdout",
     "output_type": "stream",
     "text": [
      "electricity: 0.85 -> 0.8504\n",
      "eye_movements: 0.6062039957939012 -> 0.6130389064143007\n",
      "covertype: 0.8204 -> 0.8212\n",
      "albert: 0.6264 -> 0.6344\n",
      "default-of-credit-card-clients: 0.692 -> 0.7052\n",
      "road-safety: 0.7564 -> 0.7628\n",
      "compas-two-years: 0.6253021756647864 -> 0.6591458501208702\n"
     ]
    }
   ],
   "source": [
    "acc_xgbt_df = []\n",
    "acc_xgbt_tuned_1hr = []\n",
    "for name in ID334:\n",
    "    with open(f\"{xgbt_file_path}/334/{name}/acc_df.json\") as f1:\n",
    "        acc_xgbt_df.append(json.load(f1))\n",
    "    with open(f\"{xgbt_file_path}/334/{name}/acc_tuned_1hr.json\") as f2:\n",
    "        acc_xgbt_tuned_1hr.append(json.load(f2))\n",
    "\n",
    "for i in range(len(ID334)):\n",
    "    print(f\"{ID334[i]}: {acc_xgbt_df[i]} -> {acc_xgbt_tuned_1hr[i]}\")"
   ]
  },
  {
   "cell_type": "code",
   "execution_count": 5,
   "metadata": {},
   "outputs": [
    {
     "name": "stdout",
     "output_type": "stream",
     "text": [
      "electricity: 0.7684 -> 0.7756\n",
      "eye_movements: 0.5141955835962145 -> 0.5704521556256572\n",
      "covertype: 0.7984 -> 0.8168\n",
      "albert: 0.654 -> 0.6568\n",
      "default-of-credit-card-clients: 0.702 -> 0.7024\n",
      "road-safety: 0.7356 -> 0.7536\n",
      "compas-two-years: 0.6599516518936341 -> 0.6712328767123288\n"
     ]
    }
   ],
   "source": [
    "acc_tab_df = []\n",
    "acc_tab_tuned_1hr = []\n",
    "for name in ID334:\n",
    "    with open(f\"{tab_file_path}/334/{name}/acc_df.json\") as f1:\n",
    "        acc_tab_df.append(json.load(f1))\n",
    "    with open(f\"{tab_file_path}/334/{name}/acc_tuned_1hr.json\") as f2:\n",
    "        acc_tab_tuned_1hr.append(json.load(f2))\n",
    "\n",
    "for i in range(len(ID334)):\n",
    "    print(f\"{ID334[i]}: {acc_tab_df[i]} -> {acc_tab_tuned_1hr[i]}\")"
   ]
  },
  {
   "attachments": {},
   "cell_type": "markdown",
   "metadata": {},
   "source": [
    "### 337"
   ]
  },
  {
   "cell_type": "code",
   "execution_count": 49,
   "metadata": {},
   "outputs": [
    {
     "name": "stdout",
     "output_type": "stream",
     "text": [
      "credit: 0.768 -> 0.7764\n",
      "electricity: 0.8216 -> 0.8268\n",
      "covertype: 0.7888 -> 0.794\n",
      "pol: 0.9784 -> 0.98\n",
      "house_16H: 0.8816 -> 0.8824\n",
      "MagicTelescope: 0.85 -> 0.85\n",
      "bank-marketing: 0.8004 -> 0.8016\n",
      "MiniBooNE: 0.9076 -> 0.912\n",
      "Higgs: 0.6864 -> 0.7008\n",
      "eye_movements: 0.6146161934805467 -> 0.620925341745531\n",
      "Diabetes130US: 0.5728 -> 0.5932\n",
      "jannis: 0.7544 -> 0.7596\n",
      "default-of-credit-card-clients: 0.7148 -> 0.7148\n",
      "Bioresponse: 0.7808857808857809 -> 0.7727272727272727\n",
      "california: 0.8712 -> 0.878\n",
      "heloc: 0.712 -> 0.7156\n"
     ]
    }
   ],
   "source": [
    "acc_rf_df = []\n",
    "acc_rf_tuned_1hr = []\n",
    "for name in ID337:\n",
    "    with open(f\"{rf_file_path}/337/{name}/acc_df.json\") as f1:\n",
    "        acc_rf_df.append(json.load(f1))\n",
    "    with open(f\"{rf_file_path}/337/{name}/acc_tuned_1hr.json\") as f2:\n",
    "        acc_rf_tuned_1hr.append(json.load(f2))\n",
    "for i in range(len(ID337)):\n",
    "    print(f\"{ID337[i]}: {acc_rf_df[i]} -> {acc_rf_tuned_1hr[i]}\")"
   ]
  },
  {
   "cell_type": "code",
   "execution_count": 23,
   "metadata": {},
   "outputs": [
    {
     "name": "stdout",
     "output_type": "stream",
     "text": [
      "credit: 0.7668 -> 0.7804\n",
      "electricity: 0.8196 -> 0.8324\n",
      "covertype: 0.768 -> 0.7892\n",
      "pol: 0.9872 -> 0.9872\n",
      "house_16H: 0.8808 -> 0.8812\n",
      "MagicTelescope: 0.8356 -> 0.8428\n",
      "bank-marketing: 0.7916 -> 0.8168\n",
      "MiniBooNE: 0.9212 -> 0.9248\n",
      "Higgs: 0.682 -> 0.684\n",
      "eye_movements: 0.6182965299684543 -> 0.620925341745531\n",
      "Diabetes130US: 0.5732 -> 0.5984\n",
      "jannis: 0.7536 -> 0.7568\n",
      "default-of-credit-card-clients: 0.6936 -> 0.702\n",
      "Bioresponse: 0.7692307692307693 -> 0.7727272727272727\n",
      "california: 0.8892 -> 0.8908\n",
      "heloc: 0.7116 -> 0.7132\n"
     ]
    }
   ],
   "source": [
    "acc_xgbt_df = []\n",
    "acc_xgbt_tuned_1hr = []\n",
    "for name in ID337:\n",
    "    with open(f\"{xgbt_file_path}/337/{name}/acc_df.json\") as f1:\n",
    "        acc_xgbt_df.append(json.load(f1))\n",
    "    with open(f\"{xgbt_file_path}/337/{name}/acc_tuned_1hr.json\") as f2:\n",
    "        acc_xgbt_tuned_1hr.append(json.load(f2))\n",
    "\n",
    "for i in range(len(ID337)):\n",
    "    print(f\"{ID337[i]}: {acc_xgbt_df[i]} -> {acc_xgbt_tuned_1hr[i]}\")"
   ]
  },
  {
   "cell_type": "code",
   "execution_count": 34,
   "metadata": {},
   "outputs": [
    {
     "name": "stdout",
     "output_type": "stream",
     "text": [
      "credit: 0.7104 -> 0.7372\n",
      "electricity: 0.7684 -> 0.77\n",
      "covertype: 0.7728 -> 0.7748\n",
      "pol: 0.9796 -> 0.9812\n",
      "house_16H: 0.8564 -> 0.8616\n",
      "MagicTelescope: 0.838 -> 0.8476\n",
      "bank-marketing: 0.7956 -> 0.802\n",
      "MiniBooNE: 0.794 -> 0.8696\n",
      "Higgs: 0.648 -> 0.6752\n",
      "eye_movements: 0.5515247108307045 -> 0.556782334384858\n",
      "Diabetes130US: 0.6056 -> 0.618\n",
      "jannis: 0.7204 -> 0.7384\n",
      "default-of-credit-card-clients: 0.7024 -> 0.7044\n",
      "Bioresponse: 0.6596736596736597 -> 0.7505827505827506\n",
      "california: 0.8464 -> 0.858\n",
      "heloc: 0.7028 -> 0.7168\n"
     ]
    }
   ],
   "source": [
    "acc_tab_df = []\n",
    "acc_tab_tuned = []\n",
    "acc_tab_tuned_1hr = []\n",
    "for name in ID337:\n",
    "    with open(f\"{tab_file_path}/337/{name}/acc_df.json\") as f1:\n",
    "        acc_tab_df.append(json.load(f1))\n",
    "    with open(f\"{tab_file_path}/337/{name}/acc_tuned.json\") as f2:\n",
    "        acc_tab_tuned.append(json.load(f2))\n",
    "    with open(f\"{tab_file_path}/337/{name}/acc_tuned_1hr.json\") as f3:\n",
    "        acc_tab_tuned_1hr.append(json.load(f3))\n",
    "\n",
    "for i in range(len(ID337)):\n",
    "    print(f\"{ID337[i]}: {acc_tab_df[i]} -> {acc_tab_tuned_1hr[i]}\")"
   ]
  },
  {
   "cell_type": "code",
   "execution_count": null,
   "metadata": {},
   "outputs": [],
   "source": []
  }
 ],
 "metadata": {
  "kernelspec": {
   "display_name": "Jupyter Kernel",
   "language": "python",
   "name": "neurodata"
  },
  "language_info": {
   "codemirror_mode": {
    "name": "ipython",
    "version": 3
   },
   "file_extension": ".py",
   "mimetype": "text/x-python",
   "name": "python",
   "nbconvert_exporter": "python",
   "pygments_lexer": "ipython3",
   "version": "3.9.19"
  },
  "orig_nbformat": 4
 },
 "nbformat": 4,
 "nbformat_minor": 2
}
